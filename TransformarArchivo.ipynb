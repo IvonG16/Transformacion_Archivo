{
 "cells": [
  {
   "cell_type": "code",
   "execution_count": 1,
   "id": "3c29484d",
   "metadata": {},
   "outputs": [],
   "source": [
    "import pandas as pd\n",
    "import numpy as np"
   ]
  },
  {
   "cell_type": "markdown",
   "id": "05c0b1dd",
   "metadata": {},
   "source": [
    "# Carga básica\n",
    "df = pd.read_csv('ruta/al/archivo.csv')\n",
    "\n",
    "# Si el separador no es coma (por ejemplo, punto y coma)\n",
    "# df = pd.read_csv('archivo.csv', sep=';')\n",
    "\n",
    "# Si hay problemas de codificación\n",
    "# df = pd.read_csv('archivo.csv', encoding='utf-8')  # o 'latin1', 'ISO-8859-1'"
   ]
  },
  {
   "cell_type": "code",
   "execution_count": 2,
   "id": "ac6eb9e6",
   "metadata": {},
   "outputs": [],
   "source": [
    "df = pd.read_csv('/workspaces/Transformacion_Archivo/RQMSFIPXEODVersDAILY5pm-uZX2oH2yLbyU-20250819T210000Z.csv')"
   ]
  },
  {
   "cell_type": "code",
   "execution_count": 3,
   "id": "044945d4",
   "metadata": {},
   "outputs": [],
   "source": [
    "df.to_excel('yield_duration.xlsx', index=False)"
   ]
  },
  {
   "cell_type": "code",
   "execution_count": null,
   "id": "257dd7ef",
   "metadata": {},
   "outputs": [],
   "source": []
  }
 ],
 "metadata": {
  "kernelspec": {
   "display_name": "Python 3",
   "language": "python",
   "name": "python3"
  },
  "language_info": {
   "codemirror_mode": {
    "name": "ipython",
    "version": 3
   },
   "file_extension": ".py",
   "mimetype": "text/x-python",
   "name": "python",
   "nbconvert_exporter": "python",
   "pygments_lexer": "ipython3",
   "version": "3.12.1"
  }
 },
 "nbformat": 4,
 "nbformat_minor": 5
}
